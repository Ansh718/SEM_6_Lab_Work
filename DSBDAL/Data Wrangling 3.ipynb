{
 "cells": [
  {
   "cell_type": "code",
   "execution_count": 75,
   "id": "86cc1593-b179-480c-9fda-73c511ce5265",
   "metadata": {},
   "outputs": [],
   "source": [
    "import pandas as pd\n",
    "import numpy as np\n",
    "import seaborn as sns\n",
    "import matplotlib.pyplot as plt"
   ]
  },
  {
   "cell_type": "code",
   "execution_count": 76,
   "id": "a6027a88-aa42-497f-8e96-5550fdef1a50",
   "metadata": {},
   "outputs": [],
   "source": [
    "data = pd.read_csv('nba.csv')"
   ]
  },
  {
   "cell_type": "code",
   "execution_count": 77,
   "id": "e0afee56-ed96-4547-b053-593e03ffb531",
   "metadata": {},
   "outputs": [
    {
     "data": {
      "text/html": [
       "<div>\n",
       "<style scoped>\n",
       "    .dataframe tbody tr th:only-of-type {\n",
       "        vertical-align: middle;\n",
       "    }\n",
       "\n",
       "    .dataframe tbody tr th {\n",
       "        vertical-align: top;\n",
       "    }\n",
       "\n",
       "    .dataframe thead th {\n",
       "        text-align: right;\n",
       "    }\n",
       "</style>\n",
       "<table border=\"1\" class=\"dataframe\">\n",
       "  <thead>\n",
       "    <tr style=\"text-align: right;\">\n",
       "      <th></th>\n",
       "      <th>Name</th>\n",
       "      <th>Team</th>\n",
       "      <th>Number</th>\n",
       "      <th>Position</th>\n",
       "      <th>Age</th>\n",
       "      <th>Height</th>\n",
       "      <th>Weight</th>\n",
       "      <th>College</th>\n",
       "      <th>Salary</th>\n",
       "    </tr>\n",
       "  </thead>\n",
       "  <tbody>\n",
       "    <tr>\n",
       "      <th>0</th>\n",
       "      <td>Avery Bradley</td>\n",
       "      <td>Boston Celtics</td>\n",
       "      <td>0.0</td>\n",
       "      <td>PG</td>\n",
       "      <td>25.0</td>\n",
       "      <td>6-2</td>\n",
       "      <td>180.0</td>\n",
       "      <td>Texas</td>\n",
       "      <td>7730337.0</td>\n",
       "    </tr>\n",
       "    <tr>\n",
       "      <th>1</th>\n",
       "      <td>Jae Crowder</td>\n",
       "      <td>Boston Celtics</td>\n",
       "      <td>99.0</td>\n",
       "      <td>SF</td>\n",
       "      <td>25.0</td>\n",
       "      <td>6-6</td>\n",
       "      <td>235.0</td>\n",
       "      <td>Marquette</td>\n",
       "      <td>6796117.0</td>\n",
       "    </tr>\n",
       "    <tr>\n",
       "      <th>2</th>\n",
       "      <td>John Holland</td>\n",
       "      <td>Boston Celtics</td>\n",
       "      <td>30.0</td>\n",
       "      <td>SG</td>\n",
       "      <td>27.0</td>\n",
       "      <td>6-5</td>\n",
       "      <td>205.0</td>\n",
       "      <td>Boston University</td>\n",
       "      <td>NaN</td>\n",
       "    </tr>\n",
       "    <tr>\n",
       "      <th>3</th>\n",
       "      <td>R.J. Hunter</td>\n",
       "      <td>Boston Celtics</td>\n",
       "      <td>28.0</td>\n",
       "      <td>SG</td>\n",
       "      <td>22.0</td>\n",
       "      <td>6-5</td>\n",
       "      <td>185.0</td>\n",
       "      <td>Georgia State</td>\n",
       "      <td>1148640.0</td>\n",
       "    </tr>\n",
       "    <tr>\n",
       "      <th>4</th>\n",
       "      <td>Jonas Jerebko</td>\n",
       "      <td>Boston Celtics</td>\n",
       "      <td>8.0</td>\n",
       "      <td>PF</td>\n",
       "      <td>29.0</td>\n",
       "      <td>6-10</td>\n",
       "      <td>231.0</td>\n",
       "      <td>NaN</td>\n",
       "      <td>5000000.0</td>\n",
       "    </tr>\n",
       "  </tbody>\n",
       "</table>\n",
       "</div>"
      ],
      "text/plain": [
       "            Name            Team  Number Position   Age Height  Weight  \\\n",
       "0  Avery Bradley  Boston Celtics     0.0       PG  25.0    6-2   180.0   \n",
       "1    Jae Crowder  Boston Celtics    99.0       SF  25.0    6-6   235.0   \n",
       "2   John Holland  Boston Celtics    30.0       SG  27.0    6-5   205.0   \n",
       "3    R.J. Hunter  Boston Celtics    28.0       SG  22.0    6-5   185.0   \n",
       "4  Jonas Jerebko  Boston Celtics     8.0       PF  29.0   6-10   231.0   \n",
       "\n",
       "             College     Salary  \n",
       "0              Texas  7730337.0  \n",
       "1          Marquette  6796117.0  \n",
       "2  Boston University        NaN  \n",
       "3      Georgia State  1148640.0  \n",
       "4                NaN  5000000.0  "
      ]
     },
     "execution_count": 77,
     "metadata": {},
     "output_type": "execute_result"
    }
   ],
   "source": [
    "data.head()"
   ]
  },
  {
   "cell_type": "code",
   "execution_count": 78,
   "id": "063d8eef-172c-406a-a164-0dbe27b70cdd",
   "metadata": {},
   "outputs": [
    {
     "data": {
      "text/html": [
       "<div>\n",
       "<style scoped>\n",
       "    .dataframe tbody tr th:only-of-type {\n",
       "        vertical-align: middle;\n",
       "    }\n",
       "\n",
       "    .dataframe tbody tr th {\n",
       "        vertical-align: top;\n",
       "    }\n",
       "\n",
       "    .dataframe thead th {\n",
       "        text-align: right;\n",
       "    }\n",
       "</style>\n",
       "<table border=\"1\" class=\"dataframe\">\n",
       "  <thead>\n",
       "    <tr style=\"text-align: right;\">\n",
       "      <th></th>\n",
       "      <th>Name</th>\n",
       "      <th>Team</th>\n",
       "      <th>Number</th>\n",
       "      <th>Position</th>\n",
       "      <th>Age</th>\n",
       "      <th>Height</th>\n",
       "      <th>Weight</th>\n",
       "      <th>College</th>\n",
       "      <th>Salary</th>\n",
       "    </tr>\n",
       "  </thead>\n",
       "  <tbody>\n",
       "    <tr>\n",
       "      <th>453</th>\n",
       "      <td>Shelvin Mack</td>\n",
       "      <td>Utah Jazz</td>\n",
       "      <td>8.0</td>\n",
       "      <td>PG</td>\n",
       "      <td>26.0</td>\n",
       "      <td>6-3</td>\n",
       "      <td>203.0</td>\n",
       "      <td>Butler</td>\n",
       "      <td>2433333.0</td>\n",
       "    </tr>\n",
       "    <tr>\n",
       "      <th>454</th>\n",
       "      <td>Raul Neto</td>\n",
       "      <td>Utah Jazz</td>\n",
       "      <td>25.0</td>\n",
       "      <td>PG</td>\n",
       "      <td>24.0</td>\n",
       "      <td>6-1</td>\n",
       "      <td>179.0</td>\n",
       "      <td>NaN</td>\n",
       "      <td>900000.0</td>\n",
       "    </tr>\n",
       "    <tr>\n",
       "      <th>455</th>\n",
       "      <td>Tibor Pleiss</td>\n",
       "      <td>Utah Jazz</td>\n",
       "      <td>21.0</td>\n",
       "      <td>C</td>\n",
       "      <td>26.0</td>\n",
       "      <td>7-3</td>\n",
       "      <td>256.0</td>\n",
       "      <td>NaN</td>\n",
       "      <td>2900000.0</td>\n",
       "    </tr>\n",
       "    <tr>\n",
       "      <th>456</th>\n",
       "      <td>Jeff Withey</td>\n",
       "      <td>Utah Jazz</td>\n",
       "      <td>24.0</td>\n",
       "      <td>C</td>\n",
       "      <td>26.0</td>\n",
       "      <td>7-0</td>\n",
       "      <td>231.0</td>\n",
       "      <td>Kansas</td>\n",
       "      <td>947276.0</td>\n",
       "    </tr>\n",
       "    <tr>\n",
       "      <th>457</th>\n",
       "      <td>NaN</td>\n",
       "      <td>NaN</td>\n",
       "      <td>NaN</td>\n",
       "      <td>NaN</td>\n",
       "      <td>NaN</td>\n",
       "      <td>NaN</td>\n",
       "      <td>NaN</td>\n",
       "      <td>NaN</td>\n",
       "      <td>NaN</td>\n",
       "    </tr>\n",
       "  </tbody>\n",
       "</table>\n",
       "</div>"
      ],
      "text/plain": [
       "             Name       Team  Number Position   Age Height  Weight College  \\\n",
       "453  Shelvin Mack  Utah Jazz     8.0       PG  26.0    6-3   203.0  Butler   \n",
       "454     Raul Neto  Utah Jazz    25.0       PG  24.0    6-1   179.0     NaN   \n",
       "455  Tibor Pleiss  Utah Jazz    21.0        C  26.0    7-3   256.0     NaN   \n",
       "456   Jeff Withey  Utah Jazz    24.0        C  26.0    7-0   231.0  Kansas   \n",
       "457           NaN        NaN     NaN      NaN   NaN    NaN     NaN     NaN   \n",
       "\n",
       "        Salary  \n",
       "453  2433333.0  \n",
       "454   900000.0  \n",
       "455  2900000.0  \n",
       "456   947276.0  \n",
       "457        NaN  "
      ]
     },
     "execution_count": 78,
     "metadata": {},
     "output_type": "execute_result"
    }
   ],
   "source": [
    "data.tail()"
   ]
  },
  {
   "cell_type": "code",
   "execution_count": 79,
   "id": "8d94d7d7-b5d5-49ba-bc70-68c82cc1d4e4",
   "metadata": {},
   "outputs": [
    {
     "data": {
      "text/plain": [
       "(458, 9)"
      ]
     },
     "execution_count": 79,
     "metadata": {},
     "output_type": "execute_result"
    }
   ],
   "source": [
    "data.shape"
   ]
  },
  {
   "cell_type": "code",
   "execution_count": 80,
   "id": "b6f58bdf-a1ad-4d25-b97d-845df5c42e45",
   "metadata": {},
   "outputs": [
    {
     "data": {
      "text/plain": [
       "Name         1\n",
       "Team         1\n",
       "Number       1\n",
       "Position     1\n",
       "Age          1\n",
       "Height       1\n",
       "Weight       1\n",
       "College     85\n",
       "Salary      12\n",
       "dtype: int64"
      ]
     },
     "execution_count": 80,
     "metadata": {},
     "output_type": "execute_result"
    }
   ],
   "source": [
    "data.isnull().sum()"
   ]
  },
  {
   "cell_type": "code",
   "execution_count": 81,
   "id": "ce90beaa-50fb-46d8-8f3a-4658069310ca",
   "metadata": {},
   "outputs": [
    {
     "data": {
      "text/plain": [
       "Name         object\n",
       "Team         object\n",
       "Number      float64\n",
       "Position     object\n",
       "Age         float64\n",
       "Height       object\n",
       "Weight      float64\n",
       "College      object\n",
       "Salary      float64\n",
       "dtype: object"
      ]
     },
     "execution_count": 81,
     "metadata": {},
     "output_type": "execute_result"
    }
   ],
   "source": [
    "data.dtypes"
   ]
  },
  {
   "cell_type": "code",
   "execution_count": 82,
   "id": "be0eb5ee-a06f-49f4-b9b3-0c2b10e982af",
   "metadata": {},
   "outputs": [],
   "source": [
    "categorical_cols = ['Name', 'Team', 'Position', 'Height', 'College']\n",
    "data[categorical_cols] = data[categorical_cols].fillna(data[categorical_cols].mode().iloc[0])\n",
    "numeric_cols = ['Number', 'Age', 'Weight', 'Salary']\n",
    "data[numeric_cols] = data[numeric_cols].fillna(data[numeric_cols].mean())"
   ]
  },
  {
   "cell_type": "code",
   "execution_count": 83,
   "id": "805fd8fd-4572-45fc-a40b-faf2c1aaec9c",
   "metadata": {},
   "outputs": [
    {
     "data": {
      "text/plain": [
       "Name        0\n",
       "Team        0\n",
       "Number      0\n",
       "Position    0\n",
       "Age         0\n",
       "Height      0\n",
       "Weight      0\n",
       "College     0\n",
       "Salary      0\n",
       "dtype: int64"
      ]
     },
     "execution_count": 83,
     "metadata": {},
     "output_type": "execute_result"
    }
   ],
   "source": [
    "data.isnull().sum()"
   ]
  },
  {
   "cell_type": "code",
   "execution_count": 84,
   "id": "928b807c-ddb9-4807-924f-4f8a12219b42",
   "metadata": {},
   "outputs": [
    {
     "name": "stdout",
     "output_type": "stream",
     "text": [
      "                           Number                                     Age  \\\n",
      "                             mean median  min   max        std       mean   \n",
      "Team                                                                        \n",
      "Atlanta Hawks           19.000000   17.0  0.0  43.0  11.476684  28.200000   \n",
      "Boston Celtics          31.866667   28.0  0.0  99.0  30.300558  24.733333   \n",
      "Brooklyn Nets           18.266667   15.0  0.0  44.0  14.104035  25.600000   \n",
      "Charlotte Hornets       17.133333   12.0  0.0  50.0  16.672761  26.133333   \n",
      "Chicago Bulls           19.200000   16.0  0.0  55.0  17.193022  27.400000   \n",
      "Cleveland Cavaliers     14.466667   12.0  0.0  52.0  13.809245  29.533333   \n",
      "Dallas Mavericks        20.000000   21.0  1.0  50.0  16.252472  29.733333   \n",
      "Denver Nuggets          15.266667    9.0  0.0  77.0  19.655849  25.733333   \n",
      "Detroit Pistons         17.266667   13.0  0.0  50.0  15.303906  26.200000   \n",
      "Golden State Warriors   20.866667   20.0  4.0  40.0  11.413442  27.666667   \n",
      "Houston Rockets         14.666667   12.0  0.0  35.0  12.505237  26.866667   \n",
      "Indiana Pacers          18.933333   13.0  0.0  44.0  15.988686  26.400000   \n",
      "Los Angeles Clippers    19.533333   19.0  3.0  45.0  13.125040  29.466667   \n",
      "Los Angeles Lakers      16.066667    9.0  0.0  50.0  15.285225  27.533333   \n",
      "Memphis Grizzlies       15.555556   10.5  0.0  50.0  14.030313  28.388889   \n",
      "Miami Heat              10.466667    8.0  0.0  40.0  10.377632  28.933333   \n",
      "Milwaukee Bucks         20.000000   17.5  3.0  77.0  17.485232  24.562500   \n",
      "Minnesota Timberwolves  19.571429   13.0  1.0  88.0  21.964007  26.357143   \n",
      "New Orleans Pelicans    17.033917   15.5  0.0  44.0  13.639025  26.896937   \n",
      "New York Knicks         13.250000    8.5  1.0  43.0  12.964053  27.000000   \n",
      "Oklahoma City Thunder   14.000000   11.0  0.0  35.0  12.130246  27.066667   \n",
      "Orlando Magic           16.428571   10.5  0.0  55.0  16.411601  25.071429   \n",
      "Philadelphia 76ers      18.066667   12.0  0.0  42.0  14.660280  24.600000   \n",
      "Phoenix Suns            15.466667   15.0  1.0  35.0  10.405127  25.866667   \n",
      "Portland Trail Blazers  16.000000   11.0  0.0  44.0  13.711309  25.066667   \n",
      "Sacramento Kings        16.933333   15.0  0.0  41.0  12.002777  26.800000   \n",
      "San Antonio Spurs       17.933333   17.0  1.0  40.0  11.067757  31.600000   \n",
      "Toronto Raptors         22.466667   10.0  1.0  92.0  25.856380  26.133333   \n",
      "Utah Jazz               17.866667   20.0  2.0  41.0  11.432202  24.466667   \n",
      "Washington Wizards      17.600000   12.0  1.0  90.0  22.610996  27.866667   \n",
      "\n",
      "                                                         Weight                \\\n",
      "                       median   min   max       std        mean median    min   \n",
      "Team                                                                            \n",
      "Atlanta Hawks            27.0  22.0  35.0  4.229151  221.266667  225.0  172.0   \n",
      "Boston Celtics           25.0  20.0  29.0  2.840188  219.466667  220.0  180.0   \n",
      "Brooklyn Nets            26.0  21.0  32.0  3.018988  215.600000  216.0  175.0   \n",
      "Charlotte Hornets        27.0  21.0  31.0  3.159265  220.400000  210.0  184.0   \n",
      "Chicago Bulls            27.0  21.0  35.0  4.188419  218.933333  225.0  161.0   \n",
      "Cleveland Cavaliers      30.0  24.0  35.0  4.120795  227.866667  225.0  179.0   \n",
      "Dallas Mavericks         31.0  22.0  37.0  3.712271  227.000000  230.0  185.0   \n",
      "Denver Nuggets           25.0  20.0  36.0  4.742915  217.533333  218.0  175.0   \n",
      "Detroit Pistons          25.0  20.0  36.0  4.443294  222.200000  210.0  172.0   \n",
      "Golden State Warriors    28.0  20.0  33.0  3.848314  224.600000  220.0  175.0   \n",
      "Houston Rockets          27.0  22.0  38.0  4.323799  220.333333  222.0  185.0   \n",
      "Indiana Pacers           27.0  20.0  30.0  3.157757  222.266667  225.0  180.0   \n",
      "Los Angeles Clippers     29.0  23.0  39.0  4.897035  219.733333  225.0  175.0   \n",
      "Los Angeles Lakers       27.0  20.0  37.0  5.289702  227.066667  230.0  175.0   \n",
      "Memphis Grizzlies        28.0  21.0  39.0  5.585052  218.000000  223.0  165.0   \n",
      "Miami Heat               30.0  20.0  36.0  4.861902  218.400000  220.0  165.0   \n",
      "Milwaukee Bucks          24.5  19.0  32.0  3.520772  224.062500  223.5  190.0   \n",
      "Minnesota Timberwolves   25.0  20.0  40.0  5.930458  228.642857  233.5  189.0   \n",
      "New Orleans Pelicans     27.0  23.0  31.0  2.173904  221.026149  220.0  170.0   \n",
      "New York Knicks          26.0  20.0  34.0  4.179314  223.625000  215.0  195.0   \n",
      "Oklahoma City Thunder    26.0  21.0  38.0  4.832430  229.400000  230.0  185.0   \n",
      "Orlando Magic            24.5  20.0  32.0  3.429830  213.357143  214.0  169.0   \n",
      "Philadelphia 76ers       24.0  20.0  37.0  4.563833  222.133333  215.0  175.0   \n",
      "Phoenix Suns             25.0  19.0  33.0  4.240395  218.600000  215.0  175.0   \n",
      "Portland Trail Blazers   24.0  20.0  34.0  3.634491  218.600000  215.0  173.0   \n",
      "Sacramento Kings         27.0  22.0  36.0  3.529468  221.333333  225.0  175.0   \n",
      "San Antonio Spurs        33.0  22.0  40.0  5.766901  223.933333  230.0  185.0   \n",
      "Toronto Raptors          25.0  20.0  36.0  3.961722  221.800000  220.0  190.0   \n",
      "Utah Jazz                24.0  20.0  28.0  2.445599  220.000000  226.0  179.0   \n",
      "Washington Wizards       29.0  20.0  34.0  4.389381  219.000000  218.0  190.0   \n",
      "\n",
      "                                                Salary                \\\n",
      "                          max        std          mean        median   \n",
      "Team                                                                   \n",
      "Atlanta Hawks           260.0  25.982045  4.860197e+06  2.854940e+06   \n",
      "Boston Celtics          260.0  25.606547  4.225583e+06  3.425510e+06   \n",
      "Brooklyn Nets           275.0  24.377390  3.501898e+06  1.335480e+06   \n",
      "Charlotte Hornets       289.0  29.908909  5.222728e+06  4.204200e+06   \n",
      "Chicago Bulls           275.0  29.336634  5.785559e+06  2.380440e+06   \n",
      "Cleveland Cavaliers     275.0  27.655706  7.455425e+06  4.950000e+06   \n",
      "Dallas Mavericks        275.0  27.836256  4.746582e+06  3.950313e+06   \n",
      "Denver Nuggets          280.0  26.297384  4.330974e+06  3.000000e+06   \n",
      "Detroit Pistons         279.0  28.899333  4.477884e+06  2.891760e+06   \n",
      "Golden State Warriors   273.0  29.642633  5.924600e+06  3.815000e+06   \n",
      "Houston Rockets         265.0  24.578349  5.018868e+06  2.288205e+06   \n",
      "Indiana Pacers          255.0  25.982045  4.450122e+06  4.000000e+06   \n",
      "Los Angeles Clippers    265.0  28.265240  6.323643e+06  3.110796e+06   \n",
      "Los Angeles Lakers      270.0  30.167311  4.784695e+06  1.724250e+06   \n",
      "Memphis Grizzlies       270.0  30.624865  5.328979e+06  4.842684e+06   \n",
      "Miami Heat              265.0  26.481260  6.146736e+06  2.854940e+06   \n",
      "Milwaukee Bucks         265.0  24.340553  4.350220e+06  2.254167e+06   \n",
      "Minnesota Timberwolves  307.0  30.890893  4.610884e+06  3.049180e+06   \n",
      "New Orleans Pelicans    270.0  25.045495  4.379673e+06  2.943464e+06   \n",
      "New York Knicks         278.0  25.038304  4.581494e+06  2.225421e+06   \n",
      "Oklahoma City Thunder   255.0  22.260792  6.251020e+06  3.344000e+06   \n",
      "Orlando Magic           260.0  30.047673  4.297248e+06  3.956580e+06   \n",
      "Philadelphia 76ers      275.0  27.015516  2.389039e+06  1.074169e+06   \n",
      "Phoenix Suns            260.0  27.218166  4.229676e+06  2.041080e+06   \n",
      "Portland Trail Blazers  265.0  25.178789  3.220121e+06  2.854940e+06   \n",
      "Sacramento Kings        270.0  28.019551  4.778911e+06  3.156600e+06   \n",
      "San Antonio Spurs       290.0  29.711630  5.629516e+06  2.814000e+06   \n",
      "Toronto Raptors         255.0  22.662745  4.741174e+06  2.900000e+06   \n",
      "Utah Jazz               265.0  24.695286  4.204006e+06  2.433333e+06   \n",
      "Washington Wizards      250.0  21.672893  5.088576e+06  4.000000e+06   \n",
      "\n",
      "                                                             \n",
      "                              min         max           std  \n",
      "Team                                                         \n",
      "Atlanta Hawks            525093.0  18671659.0  5.194508e+06  \n",
      "Boston Celtics          1148640.0  12000000.0  3.036396e+06  \n",
      "Brooklyn Nets            134215.0  19689000.0  5.317817e+06  \n",
      "Charlotte Hornets        189455.0  13500000.0  4.538601e+06  \n",
      "Chicago Bulls            525093.0  20093064.0  6.251088e+06  \n",
      "Cleveland Cavaliers      111196.0  22970500.0  7.484116e+06  \n",
      "Dallas Mavericks         525093.0  16407500.0  5.030279e+06  \n",
      "Denver Nuggets           258489.0  14000000.0  4.165468e+06  \n",
      "Detroit Pistons          111444.0  16000000.0  4.668478e+06  \n",
      "Golden State Warriors    289755.0  15501000.0  5.664282e+06  \n",
      "Houston Rockets          200600.0  22359364.0  6.414749e+06  \n",
      "Indiana Pacers           211744.0  17120106.0  4.584514e+06  \n",
      "Los Angeles Clippers     111444.0  21468695.0  7.600225e+06  \n",
      "Los Angeles Lakers       525093.0  25000000.0  6.835688e+06  \n",
      "Memphis Grizzlies        700902.0  19688000.0  4.556591e+06  \n",
      "Miami Heat               261894.0  22192730.0  7.285680e+06  \n",
      "Milwaukee Bucks          295327.0  16407500.0  4.875071e+06  \n",
      "Minnesota Timberwolves   947276.0  12700000.0  3.977783e+06  \n",
      "New Orleans Pelicans      55722.0  15514031.0  4.418186e+06  \n",
      "New York Knicks           30888.0  22875000.0  5.952487e+06  \n",
      "Oklahoma City Thunder    222888.0  20158622.0  6.632400e+06  \n",
      "Orlando Magic            845059.0  11250000.0  3.068412e+06  \n",
      "Philadelphia 76ers       525093.0   6500000.0  1.953024e+06  \n",
      "Phoenix Suns              55722.0  13500000.0  5.022561e+06  \n",
      "Portland Trail Blazers   525093.0   8042895.0  2.392741e+06  \n",
      "Sacramento Kings         525093.0  15851950.0  4.701792e+06  \n",
      "San Antonio Spurs        200600.0  19689000.0  6.396804e+06  \n",
      "Toronto Raptors          245177.0  13600000.0  4.195943e+06  \n",
      "Utah Jazz                900000.0  15409570.0  4.467878e+06  \n",
      "Washington Wizards       200600.0  15851950.0  4.869388e+06  \n"
     ]
    }
   ],
   "source": [
    "summary_statistics = data.groupby('Team')[['Number', 'Age', 'Weight', 'Salary']].agg(['mean', 'median', 'min', 'max', 'std'])\n",
    "print(summary_statistics)"
   ]
  },
  {
   "cell_type": "code",
   "execution_count": 85,
   "id": "4c3c2c9d-d246-48c9-a8c7-34d86da7bdbb",
   "metadata": {},
   "outputs": [
    {
     "name": "stdout",
     "output_type": "stream",
     "text": [
      "             Number                                     Age               \\\n",
      "               mean median  min   max        std       mean median   min   \n",
      "Position                                                                   \n",
      "C         21.807692   17.0  0.0  92.0  16.662469  27.371795   27.0  20.0   \n",
      "PF        23.570000   21.5  0.0  90.0  20.107918  27.160000   27.0  20.0   \n",
      "PG        10.967391    8.0  0.0  55.0  11.982085  26.847826   26.5  20.0   \n",
      "SF        17.611765   15.0  0.0  99.0  14.904533  26.858824   26.0  20.0   \n",
      "SG        14.880372   11.0  0.0  55.0  11.444109  26.543094   25.0  19.0   \n",
      "\n",
      "                              Weight                                  \\\n",
      "           max       std        mean median    min    max        std   \n",
      "Position                                                               \n",
      "C         40.0  4.156388  254.205128  250.0  220.0  307.0  15.974297   \n",
      "PF        40.0  4.607241  240.430000  240.0  200.0  275.0  12.591688   \n",
      "PG        40.0  4.169314  189.478261  190.0  161.0  220.0  11.422436   \n",
      "SF        38.0  4.386540  221.776471  225.0  175.0  260.0  14.286504   \n",
      "SG        39.0  4.620395  206.830320  210.0  175.0  234.0  12.877991   \n",
      "\n",
      "                Salary                                                 \n",
      "                  mean     median       min         max           std  \n",
      "Position                                                               \n",
      "C         5.967052e+06  3811060.0   83397.0  22359364.0  5.787989e+06  \n",
      "PF        4.570889e+06  3000000.0  111444.0  22192730.0  4.727010e+06  \n",
      "PG        5.067606e+06  3106518.0   55722.0  21468695.0  4.939768e+06  \n",
      "SF        4.857220e+06  2041080.0   30888.0  25000000.0  5.975997e+06  \n",
      "SG        4.042204e+06  2500000.0   55722.0  20000000.0  4.405625e+06  \n"
     ]
    }
   ],
   "source": [
    "summary_statistics = data.groupby('Position')[['Number', 'Age', 'Weight', 'Salary']].agg(['mean', 'median', 'min', 'max', 'std'])\n",
    "print(summary_statistics)"
   ]
  },
  {
   "cell_type": "code",
   "execution_count": 86,
   "id": "ada4e533-c8c2-45bf-b83c-32bfaee9cf37",
   "metadata": {},
   "outputs": [
    {
     "name": "stdout",
     "output_type": "stream",
     "text": [
      "                     Number                                      Age         \\\n",
      "                       mean median   min   max        std       mean median   \n",
      "College                                                                       \n",
      "Alabama           22.333333   15.0   0.0  52.0  26.764404  29.000000   29.0   \n",
      "Arizona           18.076923   19.0   0.0  44.0  12.365689  27.384615   27.0   \n",
      "Arizona State     16.000000   16.0  13.0  19.0   4.242641  27.500000   27.5   \n",
      "Arkansas           3.000000    2.0   2.0   5.0   1.732051  27.333333   27.0   \n",
      "Baylor            13.000000   13.0  13.0  13.0        NaN  25.000000   25.0   \n",
      "...                     ...    ...   ...   ...        ...        ...    ...   \n",
      "Western Michigan  42.000000   42.0  42.0  42.0        NaN  25.000000   25.0   \n",
      "Wichita State     11.000000   11.0  11.0  11.0        NaN  25.000000   25.0   \n",
      "Wisconsin         28.200000   30.0   7.0  44.0  13.608821  25.800000   24.0   \n",
      "Wyoming            7.000000    7.0   7.0   7.0        NaN  23.000000   23.0   \n",
      "Xavier            30.000000   30.0  30.0  30.0        NaN  35.000000   35.0   \n",
      "\n",
      "                                            Weight                       \\\n",
      "                   min   max       std        mean median    min    max   \n",
      "College                                                                   \n",
      "Alabama           25.0  33.0  4.000000  216.666667  225.0  198.0  227.0   \n",
      "Arizona           20.0  38.0  5.752369  221.692308  220.0  185.0  255.0   \n",
      "Arizona State     26.0  29.0  2.121320  235.000000  235.0  220.0  250.0   \n",
      "Arkansas          21.0  34.0  6.506407  218.333333  230.0  185.0  240.0   \n",
      "Baylor            25.0  25.0       NaN  240.000000  240.0  240.0  240.0   \n",
      "...                ...   ...       ...         ...    ...    ...    ...   \n",
      "Western Michigan  25.0  25.0       NaN  250.000000  250.0  250.0  250.0   \n",
      "Wichita State     25.0  25.0       NaN  210.000000  210.0  210.0  210.0   \n",
      "Wisconsin         22.0  33.0  4.438468  220.600000  228.0  185.0  240.0   \n",
      "Wyoming           23.0  23.0       NaN  230.000000  230.0  230.0  230.0   \n",
      "Xavier            35.0  35.0       NaN  250.000000  250.0  250.0  250.0   \n",
      "\n",
      "                                   Salary                                    \\\n",
      "                        std          mean     median        min         max   \n",
      "College                                                                       \n",
      "Alabama           16.196707  1.421686e+06  1320000.0   845059.0   2100000.0   \n",
      "Arizona           20.005768  3.325948e+06  2841960.0   206192.0  11710456.0   \n",
      "Arizona State     21.213203  7.933941e+06  7933941.0   111444.0  15756438.0   \n",
      "Arkansas          29.297326  2.713180e+06  1391160.0   261894.0   6486486.0   \n",
      "Baylor                  NaN  9.813480e+05   981348.0   981348.0    981348.0   \n",
      "...                     ...           ...        ...        ...         ...   \n",
      "Western Michigan        NaN  8.450590e+05   845059.0   845059.0    845059.0   \n",
      "Wichita State           NaN  8.450590e+05   845059.0   845059.0    845059.0   \n",
      "Wisconsin         21.137644  1.974492e+06  1646400.0   525093.0   4053446.0   \n",
      "Wyoming                 NaN  1.155600e+06  1155600.0  1155600.0   1155600.0   \n",
      "Xavier                  NaN  1.499187e+06  1499187.0  1499187.0   1499187.0   \n",
      "\n",
      "                                \n",
      "                           std  \n",
      "College                         \n",
      "Alabama           6.336200e+05  \n",
      "Arizona           3.325132e+06  \n",
      "Arizona State     1.106268e+07  \n",
      "Arkansas          3.316201e+06  \n",
      "Baylor                     NaN  \n",
      "...                        ...  \n",
      "Western Michigan           NaN  \n",
      "Wichita State              NaN  \n",
      "Wisconsin         1.398229e+06  \n",
      "Wyoming                    NaN  \n",
      "Xavier                     NaN  \n",
      "\n",
      "[118 rows x 20 columns]\n"
     ]
    }
   ],
   "source": [
    "summary_statistics = data.groupby('College')[['Number', 'Age', 'Weight', 'Salary']].agg(['mean', 'median', 'min', 'max', 'std'])\n",
    "print(summary_statistics)"
   ]
  },
  {
   "cell_type": "code",
   "execution_count": 87,
   "id": "1974a851-5299-4679-b981-323b769960bc",
   "metadata": {},
   "outputs": [],
   "source": [
    "data_iris = pd.read_csv('iris.csv')"
   ]
  },
  {
   "cell_type": "code",
   "execution_count": 88,
   "id": "6a2562cd-fa77-4054-b818-ba837c7d5430",
   "metadata": {},
   "outputs": [
    {
     "data": {
      "text/html": [
       "<div>\n",
       "<style scoped>\n",
       "    .dataframe tbody tr th:only-of-type {\n",
       "        vertical-align: middle;\n",
       "    }\n",
       "\n",
       "    .dataframe tbody tr th {\n",
       "        vertical-align: top;\n",
       "    }\n",
       "\n",
       "    .dataframe thead th {\n",
       "        text-align: right;\n",
       "    }\n",
       "</style>\n",
       "<table border=\"1\" class=\"dataframe\">\n",
       "  <thead>\n",
       "    <tr style=\"text-align: right;\">\n",
       "      <th></th>\n",
       "      <th>Id</th>\n",
       "      <th>SepalLengthCm</th>\n",
       "      <th>SepalWidthCm</th>\n",
       "      <th>PetalLengthCm</th>\n",
       "      <th>PetalWidthCm</th>\n",
       "      <th>Species</th>\n",
       "    </tr>\n",
       "  </thead>\n",
       "  <tbody>\n",
       "    <tr>\n",
       "      <th>0</th>\n",
       "      <td>1</td>\n",
       "      <td>5.1</td>\n",
       "      <td>3.5</td>\n",
       "      <td>1.4</td>\n",
       "      <td>0.2</td>\n",
       "      <td>Iris-setosa</td>\n",
       "    </tr>\n",
       "    <tr>\n",
       "      <th>1</th>\n",
       "      <td>2</td>\n",
       "      <td>4.9</td>\n",
       "      <td>3.0</td>\n",
       "      <td>1.4</td>\n",
       "      <td>0.2</td>\n",
       "      <td>Iris-setosa</td>\n",
       "    </tr>\n",
       "    <tr>\n",
       "      <th>2</th>\n",
       "      <td>3</td>\n",
       "      <td>4.7</td>\n",
       "      <td>3.2</td>\n",
       "      <td>1.3</td>\n",
       "      <td>0.2</td>\n",
       "      <td>Iris-setosa</td>\n",
       "    </tr>\n",
       "    <tr>\n",
       "      <th>3</th>\n",
       "      <td>4</td>\n",
       "      <td>4.6</td>\n",
       "      <td>3.1</td>\n",
       "      <td>1.5</td>\n",
       "      <td>0.2</td>\n",
       "      <td>Iris-setosa</td>\n",
       "    </tr>\n",
       "    <tr>\n",
       "      <th>4</th>\n",
       "      <td>5</td>\n",
       "      <td>5.0</td>\n",
       "      <td>3.6</td>\n",
       "      <td>1.4</td>\n",
       "      <td>0.2</td>\n",
       "      <td>Iris-setosa</td>\n",
       "    </tr>\n",
       "  </tbody>\n",
       "</table>\n",
       "</div>"
      ],
      "text/plain": [
       "   Id  SepalLengthCm  SepalWidthCm  PetalLengthCm  PetalWidthCm      Species\n",
       "0   1            5.1           3.5            1.4           0.2  Iris-setosa\n",
       "1   2            4.9           3.0            1.4           0.2  Iris-setosa\n",
       "2   3            4.7           3.2            1.3           0.2  Iris-setosa\n",
       "3   4            4.6           3.1            1.5           0.2  Iris-setosa\n",
       "4   5            5.0           3.6            1.4           0.2  Iris-setosa"
      ]
     },
     "execution_count": 88,
     "metadata": {},
     "output_type": "execute_result"
    }
   ],
   "source": [
    "data_iris.head()"
   ]
  },
  {
   "cell_type": "code",
   "execution_count": 89,
   "id": "aaab25dc-fc64-4087-bd4d-d6c5d0773341",
   "metadata": {},
   "outputs": [
    {
     "data": {
      "text/html": [
       "<div>\n",
       "<style scoped>\n",
       "    .dataframe tbody tr th:only-of-type {\n",
       "        vertical-align: middle;\n",
       "    }\n",
       "\n",
       "    .dataframe tbody tr th {\n",
       "        vertical-align: top;\n",
       "    }\n",
       "\n",
       "    .dataframe thead th {\n",
       "        text-align: right;\n",
       "    }\n",
       "</style>\n",
       "<table border=\"1\" class=\"dataframe\">\n",
       "  <thead>\n",
       "    <tr style=\"text-align: right;\">\n",
       "      <th></th>\n",
       "      <th>Id</th>\n",
       "      <th>SepalLengthCm</th>\n",
       "      <th>SepalWidthCm</th>\n",
       "      <th>PetalLengthCm</th>\n",
       "      <th>PetalWidthCm</th>\n",
       "      <th>Species</th>\n",
       "    </tr>\n",
       "  </thead>\n",
       "  <tbody>\n",
       "    <tr>\n",
       "      <th>145</th>\n",
       "      <td>146</td>\n",
       "      <td>6.7</td>\n",
       "      <td>3.0</td>\n",
       "      <td>5.2</td>\n",
       "      <td>2.3</td>\n",
       "      <td>Iris-virginica</td>\n",
       "    </tr>\n",
       "    <tr>\n",
       "      <th>146</th>\n",
       "      <td>147</td>\n",
       "      <td>6.3</td>\n",
       "      <td>2.5</td>\n",
       "      <td>5.0</td>\n",
       "      <td>1.9</td>\n",
       "      <td>Iris-virginica</td>\n",
       "    </tr>\n",
       "    <tr>\n",
       "      <th>147</th>\n",
       "      <td>148</td>\n",
       "      <td>6.5</td>\n",
       "      <td>3.0</td>\n",
       "      <td>5.2</td>\n",
       "      <td>2.0</td>\n",
       "      <td>Iris-virginica</td>\n",
       "    </tr>\n",
       "    <tr>\n",
       "      <th>148</th>\n",
       "      <td>149</td>\n",
       "      <td>6.2</td>\n",
       "      <td>3.4</td>\n",
       "      <td>5.4</td>\n",
       "      <td>2.3</td>\n",
       "      <td>Iris-virginica</td>\n",
       "    </tr>\n",
       "    <tr>\n",
       "      <th>149</th>\n",
       "      <td>150</td>\n",
       "      <td>5.9</td>\n",
       "      <td>3.0</td>\n",
       "      <td>5.1</td>\n",
       "      <td>1.8</td>\n",
       "      <td>Iris-virginica</td>\n",
       "    </tr>\n",
       "  </tbody>\n",
       "</table>\n",
       "</div>"
      ],
      "text/plain": [
       "      Id  SepalLengthCm  SepalWidthCm  PetalLengthCm  PetalWidthCm  \\\n",
       "145  146            6.7           3.0            5.2           2.3   \n",
       "146  147            6.3           2.5            5.0           1.9   \n",
       "147  148            6.5           3.0            5.2           2.0   \n",
       "148  149            6.2           3.4            5.4           2.3   \n",
       "149  150            5.9           3.0            5.1           1.8   \n",
       "\n",
       "            Species  \n",
       "145  Iris-virginica  \n",
       "146  Iris-virginica  \n",
       "147  Iris-virginica  \n",
       "148  Iris-virginica  \n",
       "149  Iris-virginica  "
      ]
     },
     "execution_count": 89,
     "metadata": {},
     "output_type": "execute_result"
    }
   ],
   "source": [
    "data_iris.tail()"
   ]
  },
  {
   "cell_type": "code",
   "execution_count": 90,
   "id": "78e3e1a9-0847-44b8-8251-171eaffbc7dd",
   "metadata": {},
   "outputs": [
    {
     "data": {
      "text/plain": [
       "(150, 6)"
      ]
     },
     "execution_count": 90,
     "metadata": {},
     "output_type": "execute_result"
    }
   ],
   "source": [
    "data_iris.shape"
   ]
  },
  {
   "cell_type": "code",
   "execution_count": 91,
   "id": "ca87a794-717a-45a3-b370-43c367556042",
   "metadata": {},
   "outputs": [
    {
     "data": {
      "text/plain": [
       "Id               0\n",
       "SepalLengthCm    0\n",
       "SepalWidthCm     0\n",
       "PetalLengthCm    0\n",
       "PetalWidthCm     0\n",
       "Species          0\n",
       "dtype: int64"
      ]
     },
     "execution_count": 91,
     "metadata": {},
     "output_type": "execute_result"
    }
   ],
   "source": [
    "data_iris.isnull().sum()"
   ]
  },
  {
   "cell_type": "code",
   "execution_count": 92,
   "id": "f6b86293-edc0-4679-93b6-eabbc44f3be1",
   "metadata": {},
   "outputs": [
    {
     "data": {
      "text/plain": [
       "Id                 int64\n",
       "SepalLengthCm    float64\n",
       "SepalWidthCm     float64\n",
       "PetalLengthCm    float64\n",
       "PetalWidthCm     float64\n",
       "Species           object\n",
       "dtype: object"
      ]
     },
     "execution_count": 92,
     "metadata": {},
     "output_type": "execute_result"
    }
   ],
   "source": [
    "data_iris.dtypes"
   ]
  },
  {
   "cell_type": "code",
   "execution_count": 93,
   "id": "0d60cc09-0310-48c1-bcce-3b7c48938ed8",
   "metadata": {},
   "outputs": [
    {
     "name": "stdout",
     "output_type": "stream",
     "text": [
      "Species\n",
      "Iris-setosa        50\n",
      "Iris-versicolor    50\n",
      "Iris-virginica     50\n",
      "Name: count, dtype: int64\n"
     ]
    }
   ],
   "source": [
    "species_counts = data_iris['Species'].value_counts()\n",
    "print(species_counts)"
   ]
  },
  {
   "cell_type": "code",
   "execution_count": 94,
   "id": "d390a600-c7db-4ccd-9f49-5254686d4d7f",
   "metadata": {},
   "outputs": [],
   "source": [
    "def species_summary(species_name):\n",
    "    species_data = data_iris[data_iris['Species'] == species_name]\n",
    "    print(\"\\nSummary statistics for\", species_name, \":\\n\")\n",
    "    print(species_data.describe().transpose())"
   ]
  },
  {
   "cell_type": "code",
   "execution_count": 95,
   "id": "1d8112b6-6248-4b99-a059-60093361e7cb",
   "metadata": {},
   "outputs": [
    {
     "name": "stdout",
     "output_type": "stream",
     "text": [
      "\n",
      "Summary statistics for Iris-setosa :\n",
      "\n",
      "               count    mean        std  min     25%   50%     75%   max\n",
      "Id              50.0  25.500  14.577380  1.0  13.250  25.5  37.750  50.0\n",
      "SepalLengthCm   50.0   5.006   0.352490  4.3   4.800   5.0   5.200   5.8\n",
      "SepalWidthCm    50.0   3.418   0.381024  2.3   3.125   3.4   3.675   4.4\n",
      "PetalLengthCm   50.0   1.464   0.173511  1.0   1.400   1.5   1.575   1.9\n",
      "PetalWidthCm    50.0   0.244   0.107210  0.1   0.200   0.2   0.300   0.6\n",
      "\n",
      "Summary statistics for Iris-versicolor :\n",
      "\n",
      "               count    mean        std   min     25%    50%    75%    max\n",
      "Id              50.0  75.500  14.577380  51.0  63.250  75.50  87.75  100.0\n",
      "SepalLengthCm   50.0   5.936   0.516171   4.9   5.600   5.90   6.30    7.0\n",
      "SepalWidthCm    50.0   2.770   0.313798   2.0   2.525   2.80   3.00    3.4\n",
      "PetalLengthCm   50.0   4.260   0.469911   3.0   4.000   4.35   4.60    5.1\n",
      "PetalWidthCm    50.0   1.326   0.197753   1.0   1.200   1.30   1.50    1.8\n",
      "\n",
      "Summary statistics for Iris-virginica :\n",
      "\n",
      "               count     mean        std    min      25%     50%      75%  \\\n",
      "Id              50.0  125.500  14.577380  101.0  113.250  125.50  137.750   \n",
      "SepalLengthCm   50.0    6.588   0.635880    4.9    6.225    6.50    6.900   \n",
      "SepalWidthCm    50.0    2.974   0.322497    2.2    2.800    3.00    3.175   \n",
      "PetalLengthCm   50.0    5.552   0.551895    4.5    5.100    5.55    5.875   \n",
      "PetalWidthCm    50.0    2.026   0.274650    1.4    1.800    2.00    2.300   \n",
      "\n",
      "                 max  \n",
      "Id             150.0  \n",
      "SepalLengthCm    7.9  \n",
      "SepalWidthCm     3.8  \n",
      "PetalLengthCm    6.9  \n",
      "PetalWidthCm     2.5  \n"
     ]
    }
   ],
   "source": [
    "for species in species_counts.index:\n",
    "    species_summary(species)"
   ]
  },
  {
   "cell_type": "code",
   "execution_count": 96,
   "id": "356ea5f4-b432-46e6-8aaf-c977f00f1a10",
   "metadata": {},
   "outputs": [],
   "source": [
    "#THE END"
   ]
  }
 ],
 "metadata": {
  "kernelspec": {
   "display_name": "Python 3 (ipykernel)",
   "language": "python",
   "name": "python3"
  },
  "language_info": {
   "codemirror_mode": {
    "name": "ipython",
    "version": 3
   },
   "file_extension": ".py",
   "mimetype": "text/x-python",
   "name": "python",
   "nbconvert_exporter": "python",
   "pygments_lexer": "ipython3",
   "version": "3.11.7"
  }
 },
 "nbformat": 4,
 "nbformat_minor": 5
}
